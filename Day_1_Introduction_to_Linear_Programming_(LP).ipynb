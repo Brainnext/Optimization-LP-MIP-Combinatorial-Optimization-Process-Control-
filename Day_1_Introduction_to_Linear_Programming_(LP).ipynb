{
  "nbformat": 4,
  "nbformat_minor": 0,
  "metadata": {
    "colab": {
      "provenance": [],
      "authorship_tag": "ABX9TyNKup8F3tSnqXkrmrIG+jes",
      "include_colab_link": true
    },
    "kernelspec": {
      "name": "python3",
      "display_name": "Python 3"
    },
    "language_info": {
      "name": "python"
    }
  },
  "cells": [
    {
      "cell_type": "markdown",
      "metadata": {
        "id": "view-in-github",
        "colab_type": "text"
      },
      "source": [
        "<a href=\"https://colab.research.google.com/github/Brainnext/Optimization-LP-MIP-Combinatorial-Optimization-Process-Control-/blob/main/Day_1_Introduction_to_Linear_Programming_(LP).ipynb\" target=\"_parent\"><img src=\"https://colab.research.google.com/assets/colab-badge.svg\" alt=\"Open In Colab\"/></a>"
      ]
    },
    {
      "cell_type": "markdown",
      "source": [
        "#  Day 1: Introduction to Linear Programming (LP) with a real-world mini project using Python and PuLP.\n",
        "\n"
      ],
      "metadata": {
        "id": "7F18nl2WRngq"
      }
    },
    {
      "cell_type": "code",
      "execution_count": 14,
      "metadata": {
        "colab": {
          "base_uri": "https://localhost:8080/"
        },
        "id": "S7CjMZ63RaA-",
        "outputId": "dd2b3c01-8000-44ab-e553-4b335b8897c7"
      },
      "outputs": [
        {
          "output_type": "stream",
          "name": "stdout",
          "text": [
            "Requirement already satisfied: pulp in /usr/local/lib/python3.11/dist-packages (3.2.1)\n"
          ]
        }
      ],
      "source": [
        "!pip install pulp"
      ]
    },
    {
      "cell_type": "code",
      "source": [
        "from pulp import LpMaximize, LpProblem, LpVariable, value"
      ],
      "metadata": {
        "id": "iOnWMfS7SYmd"
      },
      "execution_count": 15,
      "outputs": []
    },
    {
      "cell_type": "code",
      "source": [
        "model = LpProblem(\"Furniture_Profit_Max\", LpMaximize)"
      ],
      "metadata": {
        "id": "Di9MOfpUSqM4"
      },
      "execution_count": 16,
      "outputs": []
    },
    {
      "cell_type": "code",
      "source": [
        "tables = LpVariable(\"Tables\", lowBound=0, cat='continuous')\n",
        "chairs = LpVariable(\"Chairs\", lowBound=0, cat='continuous')"
      ],
      "metadata": {
        "id": "TeY1QGbPS4nb"
      },
      "execution_count": 17,
      "outputs": []
    },
    {
      "cell_type": "code",
      "source": [
        "model += 70 * tables + 50 * chairs, \"Total_Profit\""
      ],
      "metadata": {
        "id": "7f5K5y-jSzYy"
      },
      "execution_count": 18,
      "outputs": []
    },
    {
      "cell_type": "code",
      "source": [
        "model += 40 * tables + 20 * chairs <= 400, \"Wood_Limit\"\n",
        "model += 50 * tables + 30 * chairs <= 450, \"Labor_Limit\""
      ],
      "metadata": {
        "id": "dXGhD2wyTrUT"
      },
      "execution_count": 19,
      "outputs": []
    },
    {
      "cell_type": "code",
      "source": [
        "model.solve()"
      ],
      "metadata": {
        "colab": {
          "base_uri": "https://localhost:8080/"
        },
        "id": "vGmSGmOMUF3N",
        "outputId": "59e633c6-edc9-48bc-a341-8d6aece4c281"
      },
      "execution_count": 20,
      "outputs": [
        {
          "output_type": "execute_result",
          "data": {
            "text/plain": [
              "1"
            ]
          },
          "metadata": {},
          "execution_count": 20
        }
      ]
    },
    {
      "cell_type": "code",
      "source": [
        "print (\"Status:\", model.status)"
      ],
      "metadata": {
        "colab": {
          "base_uri": "https://localhost:8080/"
        },
        "id": "LYm9t1f1U4-C",
        "outputId": "f06984f2-91ba-4d76-dfcc-f062de6bc74e"
      },
      "execution_count": 21,
      "outputs": [
        {
          "output_type": "stream",
          "name": "stdout",
          "text": [
            "Status: 1\n"
          ]
        }
      ]
    },
    {
      "cell_type": "code",
      "source": [
        "print (\"Optimal number of Tables to produce:\", tables.varValue)"
      ],
      "metadata": {
        "colab": {
          "base_uri": "https://localhost:8080/"
        },
        "id": "i0WOMGZiVEUg",
        "outputId": "51606448-2901-4552-ab2b-ef5b57ab723e"
      },
      "execution_count": 22,
      "outputs": [
        {
          "output_type": "stream",
          "name": "stdout",
          "text": [
            "Optimal number of Tables to produce: 0.0\n"
          ]
        }
      ]
    },
    {
      "cell_type": "code",
      "source": [
        "print (\"Optimal numbers of chairs to produce:\", chairs.varValue)"
      ],
      "metadata": {
        "colab": {
          "base_uri": "https://localhost:8080/"
        },
        "id": "2u3NR0X9VMAH",
        "outputId": "242e89d0-3b76-4c8b-9bb2-78be41646b70"
      },
      "execution_count": 23,
      "outputs": [
        {
          "output_type": "stream",
          "name": "stdout",
          "text": [
            "Optimal numbers of chairs to produce: 15.0\n"
          ]
        }
      ]
    },
    {
      "cell_type": "code",
      "source": [
        "print (\"Maximum profit:\", value(model.objective))"
      ],
      "metadata": {
        "colab": {
          "base_uri": "https://localhost:8080/"
        },
        "id": "JUaID2m8VTZz",
        "outputId": "6a8198fa-a88c-4d1d-d051-6859cfa36cd4"
      },
      "execution_count": 24,
      "outputs": [
        {
          "output_type": "stream",
          "name": "stdout",
          "text": [
            "Maximum profit: 750.0\n"
          ]
        }
      ]
    }
  ]
}