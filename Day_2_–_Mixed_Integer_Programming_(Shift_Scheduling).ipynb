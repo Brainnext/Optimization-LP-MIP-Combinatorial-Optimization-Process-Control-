{
  "nbformat": 4,
  "nbformat_minor": 0,
  "metadata": {
    "colab": {
      "provenance": [],
      "authorship_tag": "ABX9TyM0Y5yZTT5An0pFl45H+NeJ",
      "include_colab_link": true
    },
    "kernelspec": {
      "name": "python3",
      "display_name": "Python 3"
    },
    "language_info": {
      "name": "python"
    }
  },
  "cells": [
    {
      "cell_type": "markdown",
      "metadata": {
        "id": "view-in-github",
        "colab_type": "text"
      },
      "source": [
        "<a href=\"https://colab.research.google.com/github/Brainnext/Optimization-LP-MIP-Combinatorial-Optimization-Process-Control-/blob/main/Day_2_%E2%80%93_Mixed_Integer_Programming_(Shift_Scheduling).ipynb\" target=\"_parent\"><img src=\"https://colab.research.google.com/assets/colab-badge.svg\" alt=\"Open In Colab\"/></a>"
      ]
    },
    {
      "cell_type": "markdown",
      "source": [
        "# Mixed Integer Programming (MIP):\n",
        "MIP is Linear Programming + Integer Constraints.\n",
        "\n",
        "Mixed means some variables can be continuous (like LP), and some are integers only (like 0, 1, 2, …).\n",
        "\n",
        "MIP is especially used when decisions are yes/no, on/off, or whole units only"
      ],
      "metadata": {
        "id": "naUHZhaLXTRl"
      }
    },
    {
      "cell_type": "markdown",
      "source": [
        "### 🏗️ Project Scenario: Employee Shift Scheduling\n",
        "You manage a hospital with 3 nurses and 3 shifts (morning, afternoon, night).\n",
        "You need exactly one nurse per shift, and each nurse can only work one shift.\n",
        "\n",
        "🎯 Goal: Assign nurses to shifts to maximize preference score based on availability and preference."
      ],
      "metadata": {
        "id": "-ispRm88XjlH"
      }
    },
    {
      "cell_type": "markdown",
      "source": [
        "Prefeence score between 1 - 10\n",
        "\n",
        "| Nurse | Morning | Afternoon | Night |\n",
        "| ----- | ------- | --------- | ----- |\n",
        "| A     | 8       | 6         | 2     |\n",
        "| B     | 4       | 9         | 6     |\n",
        "| C     | 7       | 5         | 8     |\n"
      ],
      "metadata": {
        "id": "ibM8h887Xxa4"
      }
    },
    {
      "cell_type": "markdown",
      "source": [
        "***Your goal is to assign shifts such that:***\n",
        "\n",
        "No nurse works more than 1 shift\n",
        "\n",
        "Each shift has exactly 1 nurse\n",
        "\n",
        "Maximize the total preference score"
      ],
      "metadata": {
        "id": "BQjYxKWAYAfo"
      }
    },
    {
      "cell_type": "code",
      "execution_count": 2,
      "metadata": {
        "colab": {
          "base_uri": "https://localhost:8080/"
        },
        "id": "DSBh3iOWXE7P",
        "outputId": "79ab0c15-9c8b-4e9f-b3ec-a03a3fd1db93"
      },
      "outputs": [
        {
          "output_type": "stream",
          "name": "stdout",
          "text": [
            "Collecting pulp\n",
            "  Downloading pulp-3.2.1-py3-none-any.whl.metadata (6.9 kB)\n",
            "Downloading pulp-3.2.1-py3-none-any.whl (16.4 MB)\n",
            "\u001b[2K   \u001b[90m━━━━━━━━━━━━━━━━━━━━━━━━━━━━━━━━━━━━━━━━\u001b[0m \u001b[32m16.4/16.4 MB\u001b[0m \u001b[31m81.4 MB/s\u001b[0m eta \u001b[36m0:00:00\u001b[0m\n",
            "\u001b[?25hInstalling collected packages: pulp\n",
            "Successfully installed pulp-3.2.1\n"
          ]
        }
      ],
      "source": [
        "pip install pulp"
      ]
    },
    {
      "cell_type": "code",
      "source": [
        "from pulp import *\n",
        "\n",
        "# this imports all the available function under pulp"
      ],
      "metadata": {
        "id": "kFLPEhasYQfJ"
      },
      "execution_count": 3,
      "outputs": []
    },
    {
      "cell_type": "markdown",
      "source": [
        "### Define the model"
      ],
      "metadata": {
        "id": "MwDwOnb4YTBf"
      }
    },
    {
      "cell_type": "code",
      "source": [
        "model = LpProblem(\"Nurse_Shift_Assignment\", LpMaximize)"
      ],
      "metadata": {
        "id": "3Z9X9TlyYWcT"
      },
      "execution_count": 4,
      "outputs": []
    },
    {
      "cell_type": "markdown",
      "source": [
        "### List the nurses and shifts"
      ],
      "metadata": {
        "id": "vX1qTqaRarfh"
      }
    },
    {
      "cell_type": "code",
      "source": [
        "nurses = [\"A\", \"B\", \"C\"]\n",
        "shifts = [\"Morning\", \"Afternoon\", \"Night\"]"
      ],
      "metadata": {
        "id": "HrU4oiiFawck"
      },
      "execution_count": 6,
      "outputs": []
    },
    {
      "cell_type": "markdown",
      "source": [
        "### Performance score as a dictionary"
      ],
      "metadata": {
        "id": "dJvFg7NHbBXU"
      }
    },
    {
      "cell_type": "code",
      "source": [
        "scores = {\n",
        "    (\"A\", 'Morning'): 8, (\"A\", 'Afternoon'): 6, (\"A\", 'Night'): 2,\n",
        "    (\"B\", 'Morning'): 4, (\"B\", 'Afternoon'): 9, (\"B\", 'Night'): 6,\n",
        "    (\"C\", 'Morning'): 7, (\"C\", 'Afternoon'): 5, (\"C\", 'Night'): 8\n",
        "}"
      ],
      "metadata": {
        "id": "a6nqCLpubIWK"
      },
      "execution_count": 7,
      "outputs": []
    },
    {
      "cell_type": "markdown",
      "source": [
        "### Define binary decision variables, i.e 1 if nurse i is assigned to shift j else 0"
      ],
      "metadata": {
        "id": "T-9GJMm4d_v1"
      }
    },
    {
      "cell_type": "code",
      "source": [
        "x = LpVariable.dicts(\"assign\", (nurses, shifts), cat='Binary')"
      ],
      "metadata": {
        "id": "pZmJCk3BfImG"
      },
      "execution_count": 13,
      "outputs": []
    },
    {
      "cell_type": "markdown",
      "source": [
        "### Objective: Maximize total preference score"
      ],
      "metadata": {
        "id": "DDWwDXDrfVoO"
      }
    },
    {
      "cell_type": "code",
      "source": [
        "model += lpSum([scores[n,s] * x[n][s] for n in nurses for s in shifts])"
      ],
      "metadata": {
        "id": "Eu7tH8WKfc1E"
      },
      "execution_count": 14,
      "outputs": []
    },
    {
      "cell_type": "markdown",
      "source": [
        "### Constraint 1: Each shift must be assigned to exactly one nurse"
      ],
      "metadata": {
        "id": "f3TuOTWzflFB"
      }
    },
    {
      "cell_type": "code",
      "source": [
        "for s in shifts:\n",
        "  model += lpSum([x[n][s] for n in nurses]) == 1, f\"On_nurse_Assigned_for_{s}\""
      ],
      "metadata": {
        "id": "3u00U67jfrti"
      },
      "execution_count": 17,
      "outputs": []
    },
    {
      "cell_type": "markdown",
      "source": [
        "### Constraint 2: Each nurse must be assigned to exactly one shift"
      ],
      "metadata": {
        "id": "mmlO0DI6f9Di"
      }
    },
    {
      "cell_type": "code",
      "source": [
        "for n in nurses:\n",
        "  model += lpSum([x[n][s] for s in shifts]) == 1, f\"One_Shift_for_{n}\""
      ],
      "metadata": {
        "id": "Pd48Y5pOgB9U"
      },
      "execution_count": 19,
      "outputs": []
    },
    {
      "cell_type": "markdown",
      "source": [
        "### Solve the model"
      ],
      "metadata": {
        "id": "98fqXsQmge0u"
      }
    },
    {
      "cell_type": "code",
      "source": [
        "model.solve()"
      ],
      "metadata": {
        "colab": {
          "base_uri": "https://localhost:8080/"
        },
        "id": "igrhdJCfghXS",
        "outputId": "86ff8b3b-7c2f-45db-ab0f-88c2f2423924"
      },
      "execution_count": 20,
      "outputs": [
        {
          "output_type": "execute_result",
          "data": {
            "text/plain": [
              "1"
            ]
          },
          "metadata": {},
          "execution_count": 20
        }
      ]
    },
    {
      "cell_type": "markdown",
      "source": [
        "### Print the result"
      ],
      "metadata": {
        "id": "llZoVaFAhB_B"
      }
    },
    {
      "cell_type": "code",
      "source": [
        "print (\"Status:\", LpStatus[model.status])"
      ],
      "metadata": {
        "colab": {
          "base_uri": "https://localhost:8080/"
        },
        "id": "grNplcPkhM9p",
        "outputId": "697d8d77-ea8e-4e50-8be3-6cec23064f7f"
      },
      "execution_count": 23,
      "outputs": [
        {
          "output_type": "stream",
          "name": "stdout",
          "text": [
            "Status: Optimal\n"
          ]
        }
      ]
    },
    {
      "cell_type": "code",
      "source": [
        "for n in nurses:\n",
        "  for s in shifts:\n",
        "    if x[n][s].varValue == 1:\n",
        "      print(f\"Nurse {n} assigned to {s} shift\")"
      ],
      "metadata": {
        "colab": {
          "base_uri": "https://localhost:8080/"
        },
        "id": "O20iHY5sh-XX",
        "outputId": "73abd752-c45d-41ce-8d65-409a0ffe5d25"
      },
      "execution_count": 30,
      "outputs": [
        {
          "output_type": "stream",
          "name": "stdout",
          "text": [
            "Nurse A assigned to Morning shift\n",
            "Nurse B assigned to Afternoon shift\n",
            "Nurse C assigned to Night shift\n"
          ]
        }
      ]
    },
    {
      "cell_type": "code",
      "source": [
        "print (\"Total preference score:\", value(model.objective)),"
      ],
      "metadata": {
        "colab": {
          "base_uri": "https://localhost:8080/"
        },
        "id": "VKFINy56iQ0o",
        "outputId": "6f0a1763-1dc8-469f-951b-bac9dd7fa92d"
      },
      "execution_count": 31,
      "outputs": [
        {
          "output_type": "stream",
          "name": "stdout",
          "text": [
            "Total preference score: 25.0\n"
          ]
        },
        {
          "output_type": "execute_result",
          "data": {
            "text/plain": [
              "(None,)"
            ]
          },
          "metadata": {},
          "execution_count": 31
        }
      ]
    }
  ]
}